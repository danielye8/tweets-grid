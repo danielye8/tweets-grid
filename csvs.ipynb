{
 "cells": [
  {
   "cell_type": "code",
   "execution_count": 9,
   "metadata": {},
   "outputs": [],
   "source": [
    "example_output = {\n",
    "  10: {\n",
    "    'en': 12,\n",
    "    'fr': 13,\n",
    "    'a': 11,\n",
    "    'b': 9,\n",
    "    'c': 8,\n",
    "    'd': 7,\n",
    "    'e': 6,\n",
    "    'f': 5,\n",
    "    'g': 4,\n",
    "    'h': 3,\n",
    "    'i': 2,\n",
    "    'j': 1,\n",
    "  },\n",
    "  11: {\n",
    "    'en': 3,\n",
    "    'fr': 2,\n",
    "    'cn': 15,\n",
    "  }\n",
    "}"
   ]
  },
  {
   "cell_type": "code",
   "execution_count": 10,
   "metadata": {},
   "outputs": [
    {
     "data": {
      "text/plain": [
       "(81,\n",
       " 12,\n",
       " (('fr', 13),\n",
       "  ('en', 12),\n",
       "  ('a', 11),\n",
       "  ('b', 9),\n",
       "  ('c', 8),\n",
       "  ('d', 7),\n",
       "  ('e', 6),\n",
       "  ('f', 5),\n",
       "  ('g', 4),\n",
       "  ('h', 3)))"
      ]
     },
     "execution_count": 10,
     "metadata": {},
     "output_type": "execute_result"
    }
   ],
   "source": [
    "def cell_summary(cell: dict) -> tuple:\n",
    "  n_lang = len(cell)\n",
    "  total_tweets = sum(cell.values())\n",
    "  lang_sorted = tuple(sorted(cell.items(), key=lambda lang: -lang[1]))[:10]\n",
    "  \n",
    "  return total_tweets, n_lang, lang_sorted\n",
    "\n",
    "cell_summary(example_output[10])"
   ]
  },
  {
   "cell_type": "code",
   "execution_count": null,
   "metadata": {},
   "outputs": [],
   "source": []
  }
 ],
 "metadata": {
  "interpreter": {
   "hash": "cbf78a5dc97fe066af386518dfa154567bd9746649ddd971363dbcdae29ed4a2"
  },
  "kernelspec": {
   "display_name": "Python 3.8.13 ('cluster_ass_1')",
   "language": "python",
   "name": "python3"
  },
  "language_info": {
   "codemirror_mode": {
    "name": "ipython",
    "version": 3
   },
   "file_extension": ".py",
   "mimetype": "text/x-python",
   "name": "python",
   "nbconvert_exporter": "python",
   "pygments_lexer": "ipython3",
   "version": "3.8.13"
  },
  "orig_nbformat": 4
 },
 "nbformat": 4,
 "nbformat_minor": 2
}
