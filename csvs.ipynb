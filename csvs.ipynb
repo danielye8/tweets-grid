{
 "cells": [
  {
   "cell_type": "code",
   "execution_count": 16,
   "metadata": {},
   "outputs": [],
   "source": [
    "example_output = {\n",
    "  10: {\n",
    "    'en': 12,\n",
    "    'fr': 13,\n",
    "    'a': 11,\n",
    "    'b': 9,\n",
    "    'c': 8,\n",
    "    'd': 7,\n",
    "    'e': 6,\n",
    "    'f': 5,\n",
    "    'g': 4,\n",
    "    'h': 3,\n",
    "    'i': 2,\n",
    "    'j': 1,\n",
    "  },\n",
    "  11: {\n",
    "    'en': 3,\n",
    "    'fr': 2,\n",
    "    'cn': 15,\n",
    "  }\n",
    "}"
   ]
  },
  {
   "cell_type": "code",
   "execution_count": 17,
   "metadata": {},
   "outputs": [],
   "source": [
    "import json\n",
    "langs_path = 'constants/languages.json'\n",
    "with open(langs_path) as fp:\n",
    "  langs = json.load(fp)"
   ]
  },
  {
   "cell_type": "code",
   "execution_count": 18,
   "metadata": {},
   "outputs": [
    {
     "data": {
      "text/plain": [
       "{'FIELD1': 'English (default)', 'FIELD2': 'en'}"
      ]
     },
     "execution_count": 18,
     "metadata": {},
     "output_type": "execute_result"
    }
   ],
   "source": [
    "langs[1]"
   ]
  },
  {
   "cell_type": "code",
   "execution_count": 27,
   "metadata": {},
   "outputs": [
    {
     "name": "stdout",
     "output_type": "stream",
     "text": [
      "(('fr', 13), ('en', 12), ('a', 11), ('b', 9), ('c', 8), ('d', 7), ('e', 6), ('f', 5), ('g', 4), ('h', 3))\n",
      "(('cn', 15), ('en', 3), ('fr', 2))\n"
     ]
    }
   ],
   "source": [
    "import csv\n",
    "\n",
    "def get_language_mapping():\n",
    "  langs_path = 'constants/languages.json'\n",
    "  with open(langs_path) as fp:\n",
    "    table = json.load(fp)[1:]\n",
    "  pairs = map(lambda row: (row['FIELD2'], row['FIELD1']), table)\n",
    "  out_table = dict(pairs)\n",
    "  # Simplified a\n",
    "  out_table['zh-cn'] = 'Chinese'\n",
    "  out_table['zh-tw'] = 'Chinese'\n",
    "  return out_table\n",
    "\n",
    "class LangaugeDecoder():\n",
    "  def __init__(self, map):\n",
    "    self.map = map\n",
    "  def decode(self, code):\n",
    "    if code in self.map: return self.map[code]\n",
    "    return code\n",
    "\n",
    "lang_coder = LangaugeDecoder(get_language_mapping())\n",
    "\n",
    "def create_csv(filepath, data):\n",
    "  with open(filepath, 'w') as fp:\n",
    "    writer = csv.writer(fp)\n",
    "    header = ['Cell', '#Total Tweets', '#Number of Languages Used', '#Top 10 Languages & #Tweets']\n",
    "    writer.writerow(header)\n",
    "    for cell_id, cell in data.items():\n",
    "      row = [cell_id] + list(cell_summary(cell))\n",
    "      writer.writerow(row)\n",
    "      \n",
    "    \n",
    "def cell_summary(cell: dict) -> tuple:\n",
    "  n_lang = len(cell)\n",
    "  total_tweets = sum(cell.values())\n",
    "  lang_sorted = tuple(sorted(cell.items(), key=lambda lang: -lang[1]))[:10]\n",
    "  print(lang_sorted)\n",
    "  lang_sorted = ', '.join(('-'.join([lang_coder.decode(lang), str(count)]) for lang, count in lang_sorted))\n",
    "  return total_tweets, n_lang, lang_sorted\n",
    "\n",
    "\n",
    "create_csv('example.csv', example_output)"
   ]
  },
  {
   "cell_type": "code",
   "execution_count": 26,
   "metadata": {},
   "outputs": [
    {
     "data": {
      "text/plain": [
       "{10: {'en': 12,\n",
       "  'fr': 13,\n",
       "  'a': 11,\n",
       "  'b': 9,\n",
       "  'c': 8,\n",
       "  'd': 7,\n",
       "  'e': 6,\n",
       "  'f': 5,\n",
       "  'g': 4,\n",
       "  'h': 3,\n",
       "  'i': 2,\n",
       "  'j': 1},\n",
       " 11: {'en': 3, 'fr': 2, 'cn': 15}}"
      ]
     },
     "execution_count": 26,
     "metadata": {},
     "output_type": "execute_result"
    }
   ],
   "source": [
    "example_output"
   ]
  },
  {
   "cell_type": "markdown",
   "metadata": {},
   "source": [
    "examp"
   ]
  },
  {
   "cell_type": "code",
   "execution_count": 13,
   "metadata": {},
   "outputs": [
    {
     "data": {
      "text/plain": [
       "{'en': 'English (default)',\n",
       " 'ar': 'Arabic',\n",
       " 'bn': 'Bengali',\n",
       " 'cs': 'Czech',\n",
       " 'da': 'Danish',\n",
       " 'de': 'German',\n",
       " 'el': 'Greek',\n",
       " 'es': 'Spanish',\n",
       " 'fa': 'Persian',\n",
       " 'fi': 'Finnish',\n",
       " 'fil': 'Filipino',\n",
       " 'fr': 'French',\n",
       " 'he': 'Hebrew',\n",
       " 'hi': 'Hindi',\n",
       " 'hu': 'Hungarian',\n",
       " 'id': 'Indonesian',\n",
       " 'it': 'Italian',\n",
       " 'ja': 'Japanese',\n",
       " 'ko': 'Korean',\n",
       " 'msa': 'Malay',\n",
       " 'nl': 'Dutch',\n",
       " 'no': 'Norwegian',\n",
       " 'pl': 'Polish',\n",
       " 'pt': 'Portuguese',\n",
       " 'ro': 'Romanian',\n",
       " 'ru': 'Russian',\n",
       " 'sv': 'Swedish',\n",
       " 'th': 'Thai',\n",
       " 'tr': 'Turkish',\n",
       " 'uk': 'Ukrainian',\n",
       " 'ur': 'Urdu',\n",
       " 'vi': 'Vietnamese',\n",
       " 'zh-cn': 'Chinese (Simplified)',\n",
       " 'zh-tw': 'Chinese (Traditional)'}"
      ]
     },
     "execution_count": 13,
     "metadata": {},
     "output_type": "execute_result"
    }
   ],
   "source": [
    "language_table"
   ]
  },
  {
   "cell_type": "code",
   "execution_count": null,
   "metadata": {},
   "outputs": [],
   "source": []
  }
 ],
 "metadata": {
  "interpreter": {
   "hash": "cbf78a5dc97fe066af386518dfa154567bd9746649ddd971363dbcdae29ed4a2"
  },
  "kernelspec": {
   "display_name": "Python 3.8.13 ('cluster_ass_1')",
   "language": "python",
   "name": "python3"
  },
  "language_info": {
   "codemirror_mode": {
    "name": "ipython",
    "version": 3
   },
   "file_extension": ".py",
   "mimetype": "text/x-python",
   "name": "python",
   "nbconvert_exporter": "python",
   "pygments_lexer": "ipython3",
   "version": "3.8.13"
  },
  "orig_nbformat": 4
 },
 "nbformat": 4,
 "nbformat_minor": 2
}
