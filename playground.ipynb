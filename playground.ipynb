{
 "cells": [
  {
   "cell_type": "code",
   "execution_count": 5,
   "metadata": {},
   "outputs": [],
   "source": [
    "import os\n",
    "from pathlib import Path\n",
    "import json"
   ]
  },
  {
   "cell_type": "code",
   "execution_count": 102,
   "metadata": {},
   "outputs": [],
   "source": [
    "root = Path(os.getcwd())\n",
    "data_dir = root.joinpath('data')\n",
    "tiny_twitter_dir = data_dir.joinpath('tinyTwitter.json')\n",
    "small_twitter_dir = data_dir.joinpath('smallTwitter.json')\n",
    "grid_dir = data_dir.joinpath('sydGrid.json')"
   ]
  },
  {
   "cell_type": "code",
   "execution_count": 103,
   "metadata": {},
   "outputs": [],
   "source": [
    "f = open(small_twitter_dir)\n",
    "tweets = json.load(f)\n",
    "f.close()"
   ]
  },
  {
   "cell_type": "code",
   "execution_count": 104,
   "metadata": {},
   "outputs": [
    {
     "data": {
      "text/plain": [
       "dict_keys(['total_rows', 'rows'])"
      ]
     },
     "execution_count": 104,
     "metadata": {},
     "output_type": "execute_result"
    }
   ],
   "source": [
    "tweets.keys()"
   ]
  },
  {
   "cell_type": "code",
   "execution_count": 17,
   "metadata": {},
   "outputs": [
    {
     "data": {
      "text/plain": [
       "1000"
      ]
     },
     "execution_count": 17,
     "metadata": {},
     "output_type": "execute_result"
    }
   ],
   "source": [
    "tweets['total_rows']"
   ]
  },
  {
   "cell_type": "code",
   "execution_count": 105,
   "metadata": {},
   "outputs": [
    {
     "data": {
      "text/plain": [
       "dict_keys(['id', 'key', 'value', 'doc'])"
      ]
     },
     "execution_count": 105,
     "metadata": {},
     "output_type": "execute_result"
    }
   ],
   "source": [
    "tweets['rows'][0].keys()"
   ]
  },
  {
   "cell_type": "code",
   "execution_count": 119,
   "metadata": {},
   "outputs": [
    {
     "data": {
      "text/plain": [
       "<AxesSubplot:>"
      ]
     },
     "execution_count": 119,
     "metadata": {},
     "output_type": "execute_result"
    },
    {
     "data": {
      "image/png": "[encoded data removed]",
      "text/plain": [
       "<Figure size 432x288 with 1 Axes>"
      ]
     },
     "metadata": {
      "needs_background": "light"
     },
     "output_type": "display_data"
    }
   ],
   "source": [
    "import numpy as np\n",
    "import seaborn as sns\n",
    "\n",
    "import typing\n",
    "\n",
    "class Tweet():\n",
    "  \"\"\"Convenience class for tweets\"\"\"\n",
    "  def __init__(self, tweet: dict):\n",
    "    self.data = tweet\n",
    "  def get_location(self) -> typing.Optional[str]:\n",
    "    if location := self.data['doc']['coordinates']:\n",
    "      location = location['coordinates']\n",
    "      return Point(location)\n",
    "    return None\n",
    "  def get_language(self) -> typing.Optional[str]:\n",
    "    if language := self.data['doc']['lang']:\n",
    "      return language\n",
    "    return None\n",
    "  \n",
    "\n",
    "for i, tweet in enumerate(tweets['rows']):\n",
    "  x = []\n",
    "  y = []\n",
    "  t = Tweet(tweet)\n",
    "  if t.get_location():\n",
    "    loc = t.get_location()\n",
    "    x.append(loc.x)\n",
    "    y.append(loc.y)\n",
    "    \n",
    "sns.scatterplot(x=x, y=y)\n",
    "    "
   ]
  },
  {
   "cell_type": "code",
   "execution_count": 115,
   "metadata": {},
   "outputs": [
    {
     "data": {
      "text/plain": [
       "[]"
      ]
     },
     "execution_count": 115,
     "metadata": {},
     "output_type": "execute_result"
    }
   ],
   "source": [
    "y"
   ]
  },
  {
   "cell_type": "code",
   "execution_count": 29,
   "metadata": {},
   "outputs": [
    {
     "data": {
      "text/plain": [
       "{'id': '1212161512334336000',\n",
       " 'key': ['sydney', 2020, 1, 1],\n",
       " 'value': 1,\n",
       " 'doc': {'_id': '1212161512334336000',\n",
       "  '_rev': '1-a51c37b5a85cf6a96735628afbea2c75',\n",
       "  'created_at': 'Wed Jan 01 00:00:00 +0000 2020',\n",
       "  'id': 1212161512334336000,\n",
       "  'id_str': '1212161512334336000',\n",
       "  'text': '@La_Doine Pues ahora si, feliz 2020 🎊',\n",
       "  'truncated': False,\n",
       "  'entities': {'hashtags': [],\n",
       "   'symbols': [],\n",
       "   'user_mentions': [{'screen_name': 'La_Doine',\n",
       "     'name': 'Star',\n",
       "     'id': 320174862,\n",
       "     'id_str': '320174862',\n",
       "     'indices': [0, 9]}],\n",
       "   'urls': []},\n",
       "  'metadata': {'iso_language_code': 'es', 'result_type': 'recent'},\n",
       "  'source': '<a href=\"https://mobile.twitter.com\" rel=\"nofollow\">Twitter Web App</a>',\n",
       "  'in_reply_to_status_id': 1212157896512942000,\n",
       "  'in_reply_to_status_id_str': '1212157896512942080',\n",
       "  'in_reply_to_user_id': 320174862,\n",
       "  'in_reply_to_user_id_str': '320174862',\n",
       "  'in_reply_to_screen_name': 'La_Doine',\n",
       "  'user': {'id': 1011510954406961200,\n",
       "   'id_str': '1011510954406961153',\n",
       "   'name': 'AySeñorQueNosComenLosMonguers',\n",
       "   'screen_name': 'BocataJamonEHM',\n",
       "   'location': 'Calle Wallaby 42 Sidney',\n",
       "   'description': 'Intento de humorista fallido reconvertido en payaso de baja autoestima y gran corazón,no me muero de la pereza que me da.',\n",
       "   'url': None,\n",
       "   'entities': {'description': {'urls': []}},\n",
       "   'protected': False,\n",
       "   'followers_count': 12245,\n",
       "   'friends_count': 144,\n",
       "   'listed_count': 43,\n",
       "   'created_at': 'Tue Jun 26 07:26:19 +0000 2018',\n",
       "   'favourites_count': 59819,\n",
       "   'utc_offset': None,\n",
       "   'time_zone': None,\n",
       "   'geo_enabled': False,\n",
       "   'verified': False,\n",
       "   'statuses_count': 29587,\n",
       "   'lang': None,\n",
       "   'contributors_enabled': False,\n",
       "   'is_translator': False,\n",
       "   'is_translation_enabled': False,\n",
       "   'profile_background_color': 'F5F8FA',\n",
       "   'profile_background_image_url': None,\n",
       "   'profile_background_image_url_https': None,\n",
       "   'profile_background_tile': False,\n",
       "   'profile_image_url': 'http://pbs.twimg.com/profile_images/1011512550989721601/nK-Sajra_normal.jpg',\n",
       "   'profile_image_url_https': 'https://pbs.twimg.com/profile_images/1011512550989721601/nK-Sajra_normal.jpg',\n",
       "   'profile_banner_url': 'https://pbs.twimg.com/profile_banners/1011510954406961153/1529998634',\n",
       "   'profile_link_color': '1DA1F2',\n",
       "   'profile_sidebar_border_color': 'C0DEED',\n",
       "   'profile_sidebar_fill_color': 'DDEEF6',\n",
       "   'profile_text_color': '333333',\n",
       "   'profile_use_background_image': True,\n",
       "   'has_extended_profile': True,\n",
       "   'default_profile': True,\n",
       "   'default_profile_image': False,\n",
       "   'following': False,\n",
       "   'follow_request_sent': False,\n",
       "   'notifications': False,\n",
       "   'translator_type': 'none'},\n",
       "  'geo': None,\n",
       "  'coordinates': None,\n",
       "  'place': None,\n",
       "  'contributors': None,\n",
       "  'is_quote_status': False,\n",
       "  'retweet_count': 0,\n",
       "  'favorite_count': 0,\n",
       "  'favorited': False,\n",
       "  'retweeted': False,\n",
       "  'lang': 'es',\n",
       "  'location': 'sydney'}}"
      ]
     },
     "execution_count": 29,
     "metadata": {},
     "output_type": "execute_result"
    }
   ],
   "source": [
    "tweets['rows'][0]"
   ]
  },
  {
   "cell_type": "code",
   "execution_count": 39,
   "metadata": {},
   "outputs": [],
   "source": [
    "f = open(grid_dir)\n",
    "grid = json.load(f)\n",
    "f.close()"
   ]
  },
  {
   "cell_type": "code",
   "execution_count": 40,
   "metadata": {},
   "outputs": [],
   "source": [
    "polygons = grid['features']"
   ]
  },
  {
   "cell_type": "code",
   "execution_count": 58,
   "metadata": {},
   "outputs": [],
   "source": [
    "from shapely.geometry import Polygon, Point, MultiPolygon"
   ]
  },
  {
   "cell_type": "code",
   "execution_count": 62,
   "metadata": {},
   "outputs": [],
   "source": [
    "areas = [Polygon(polygon['geometry']['coordinates'][0]) for polygon in polygons]\n",
    "multi = MultiPolygon(areas)"
   ]
  },
  {
   "cell_type": "code",
   "execution_count": 70,
   "metadata": {},
   "outputs": [
    {
     "name": "stdout",
     "output_type": "stream",
     "text": [
      "0 (149.79255080532937, -33.31644989181766, 150.34255080532938, -32.81644989181766)\n",
      "1 (149.79255080532937, -33.81644989181766, 150.34255080532938, -33.31644989181766)\n",
      "2 (149.79255080532937, -34.31644989181766, 150.34255080532938, -33.81644989181766)\n",
      "3 (149.79255080532937, -34.81644989181766, 150.34255080532938, -34.31644989181766)\n",
      "4 (150.34255080532938, -33.31644989181766, 150.8925508053294, -32.81644989181766)\n",
      "5 (150.34255080532938, -33.81644989181766, 150.8925508053294, -33.31644989181766)\n",
      "6 (150.34255080532938, -34.31644989181766, 150.8925508053294, -33.81644989181766)\n",
      "7 (150.34255080532938, -34.81644989181766, 150.8925508053294, -34.31644989181766)\n",
      "8 (150.89255080532936, -33.31644989181766, 151.44255080532938, -32.81644989181766)\n",
      "9 (150.89255080532936, -33.81644989181766, 151.44255080532938, -33.31644989181766)\n",
      "10 (150.89255080532936, -34.31644989181766, 151.44255080532938, -33.81644989181766)\n",
      "11 (150.89255080532936, -34.81644989181766, 151.44255080532938, -34.31644989181766)\n",
      "12 (151.44255080532938, -33.31644989181766, 151.9925508053294, -32.81644989181766)\n",
      "13 (151.44255080532938, -33.81644989181766, 151.9925508053294, -33.31644989181766)\n",
      "14 (151.44255080532938, -34.31644989181766, 151.9925508053294, -33.81644989181766)\n",
      "15 (151.44255080532938, -34.81644989181766, 151.9925508053294, -34.31644989181766)\n"
     ]
    }
   ],
   "source": [
    "for i, poly in enumerate(multi):\n",
    "  print(i, poly.bounds)"
   ]
  },
  {
   "cell_type": "code",
   "execution_count": 72,
   "metadata": {},
   "outputs": [
    {
     "data": {
      "text/plain": [
       "[(0, <shapely.geometry.polygon.Polygon at 0x117692850>),\n",
       " (1, <shapely.geometry.polygon.Polygon at 0x117692190>),\n",
       " (2, <shapely.geometry.polygon.Polygon at 0x117692fd0>),\n",
       " (3, <shapely.geometry.polygon.Polygon at 0x117692880>),\n",
       " (4, <shapely.geometry.polygon.Polygon at 0x1176925e0>),\n",
       " (5, <shapely.geometry.polygon.Polygon at 0x117692af0>),\n",
       " (6, <shapely.geometry.polygon.Polygon at 0x117692310>),\n",
       " (7, <shapely.geometry.polygon.Polygon at 0x1176924f0>),\n",
       " (8, <shapely.geometry.polygon.Polygon at 0x1072149d0>),\n",
       " (9, <shapely.geometry.polygon.Polygon at 0x117692c10>),\n",
       " (10, <shapely.geometry.polygon.Polygon at 0x117692970>),\n",
       " (11, <shapely.geometry.polygon.Polygon at 0x117692d30>),\n",
       " (12, <shapely.geometry.polygon.Polygon at 0x117692550>),\n",
       " (13, <shapely.geometry.polygon.Polygon at 0x117692a90>),\n",
       " (14, <shapely.geometry.polygon.Polygon at 0x1176927f0>),\n",
       " (15, <shapely.geometry.polygon.Polygon at 0x1176923a0>)]"
      ]
     },
     "execution_count": 72,
     "metadata": {},
     "output_type": "execute_result"
    }
   ],
   "source": [
    "list(enumerate(multi))"
   ]
  },
  {
   "cell_type": "code",
   "execution_count": 75,
   "metadata": {},
   "outputs": [
    {
     "name": "stdout",
     "output_type": "stream",
     "text": [
      "0 (149.79255080532937, -34.81644989181766, 150.34255080532938, -34.31644989181766)\n",
      "1 (149.79255080532937, -34.31644989181766, 150.34255080532938, -33.81644989181766)\n",
      "2 (149.79255080532937, -33.81644989181766, 150.34255080532938, -33.31644989181766)\n",
      "3 (149.79255080532937, -33.31644989181766, 150.34255080532938, -32.81644989181766)\n",
      "4 (150.34255080532938, -34.81644989181766, 150.8925508053294, -34.31644989181766)\n",
      "5 (150.34255080532938, -34.31644989181766, 150.8925508053294, -33.81644989181766)\n",
      "6 (150.34255080532938, -33.81644989181766, 150.8925508053294, -33.31644989181766)\n",
      "7 (150.34255080532938, -33.31644989181766, 150.8925508053294, -32.81644989181766)\n",
      "8 (150.89255080532936, -34.81644989181766, 151.44255080532938, -34.31644989181766)\n",
      "9 (150.89255080532936, -34.31644989181766, 151.44255080532938, -33.81644989181766)\n",
      "10 (150.89255080532936, -33.81644989181766, 151.44255080532938, -33.31644989181766)\n",
      "11 (150.89255080532936, -33.31644989181766, 151.44255080532938, -32.81644989181766)\n",
      "12 (151.44255080532938, -34.81644989181766, 151.9925508053294, -34.31644989181766)\n",
      "13 (151.44255080532938, -34.31644989181766, 151.9925508053294, -33.81644989181766)\n",
      "14 (151.44255080532938, -33.81644989181766, 151.9925508053294, -33.31644989181766)\n",
      "15 (151.44255080532938, -33.31644989181766, 151.9925508053294, -32.81644989181766)\n"
     ]
    }
   ],
   "source": [
    "sorted_multi = sorted(multi, key=lambda poly: (poly.bounds[0], poly.bounds[1]))\n",
    "for i, poly in enumerate(sorted_multi):\n",
    "  print(i, poly.bounds)"
   ]
  },
  {
   "cell_type": "code",
   "execution_count": 82,
   "metadata": {},
   "outputs": [],
   "source": [
    "sorted_multi = MultiPolygon(sorted_multi)"
   ]
  },
  {
   "cell_type": "code",
   "execution_count": 84,
   "metadata": {},
   "outputs": [
    {
     "data": {
      "text/plain": [
       "shapely.geometry.polygon.Polygon"
      ]
     },
     "execution_count": 84,
     "metadata": {},
     "output_type": "execute_result"
    }
   ],
   "source": [
    "type(multi[0])"
   ]
  },
  {
   "cell_type": "code",
   "execution_count": 86,
   "metadata": {},
   "outputs": [
    {
     "data": {
      "text/plain": [
       "False"
      ]
     },
     "execution_count": 86,
     "metadata": {},
     "output_type": "execute_result"
    }
   ],
   "source": [
    "sorted_multi[0].contains(multi[0])"
   ]
  },
  {
   "cell_type": "code",
   "execution_count": 89,
   "metadata": {},
   "outputs": [
    {
     "data": {
      "text/plain": [
       "[(3, <shapely.geometry.polygon.Polygon at 0x122fbc1c0>),\n",
       " (2, <shapely.geometry.polygon.Polygon at 0x122fbc1f0>),\n",
       " (1, <shapely.geometry.polygon.Polygon at 0x122fbca30>),\n",
       " (0, <shapely.geometry.polygon.Polygon at 0x122f6a0a0>),\n",
       " (7, <shapely.geometry.polygon.Polygon at 0x122fbc8b0>),\n",
       " (6, <shapely.geometry.polygon.Polygon at 0x122fbc160>),\n",
       " (5, <shapely.geometry.polygon.Polygon at 0x122fbc100>),\n",
       " (4, <shapely.geometry.polygon.Polygon at 0x122fbc3a0>),\n",
       " (11, <shapely.geometry.polygon.Polygon at 0x122fbc4c0>),\n",
       " (10, <shapely.geometry.polygon.Polygon at 0x122fbc3d0>),\n",
       " (9, <shapely.geometry.polygon.Polygon at 0x122fbc250>),\n",
       " (8, <shapely.geometry.polygon.Polygon at 0x122fbc910>),\n",
       " (15, <shapely.geometry.polygon.Polygon at 0x122fbc280>),\n",
       " (14, <shapely.geometry.polygon.Polygon at 0x122fbc460>),\n",
       " (13, <shapely.geometry.polygon.Polygon at 0x122fbc2b0>),\n",
       " (12, <shapely.geometry.polygon.Polygon at 0x122fbc4f0>)]"
      ]
     },
     "execution_count": 89,
     "metadata": {},
     "output_type": "execute_result"
    }
   ],
   "source": [
    "sorted(list(enumerate(multi)), key=lambda pair: (pair[1].bounds[0], pair[1].bounds[1]))"
   ]
  },
  {
   "cell_type": "code",
   "execution_count": null,
   "metadata": {},
   "outputs": [],
   "source": []
  }
 ],
 "metadata": {
  "interpreter": {
   "hash": "a9e18bc32ec1783e7534447e5faab1b08e8d12876ce8f855e5881a39a12b9de8"
  },
  "kernelspec": {
   "display_name": "Python 3.9.7 ('nlp')",
   "language": "python",
   "name": "python3"
  },
  "language_info": {
   "codemirror_mode": {
    "name": "ipython",
    "version": 3
   },
   "file_extension": ".py",
   "mimetype": "text/x-python",
   "name": "python",
   "nbconvert_exporter": "python",
   "pygments_lexer": "ipython3",
   "version": "3.9.7"
  },
  "orig_nbformat": 4
 },
 "nbformat": 4,
 "nbformat_minor": 2
}
